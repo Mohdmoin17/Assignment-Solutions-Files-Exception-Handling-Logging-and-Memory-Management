{
  "nbformat": 4,
  "nbformat_minor": 0,
  "metadata": {
    "colab": {
      "provenance": []
    },
    "kernelspec": {
      "name": "python3",
      "display_name": "Python 3"
    },
    "language_info": {
      "name": "python"
    }
  },
  "cells": [
    {
      "cell_type": "markdown",
      "source": [
        "Module 6\n",
        "\n",
        "Assignment Solutions: Files, Exception Handling, Logging, and Memory Management\n",
        "\n",
        "Theoretical Questions\n",
        "1. What is the difference between interpreted and compiled languages?\n",
        "\n",
        " ANS. Compiled languages (e.g., C, C++) are converted directly into machine code that the processor executes. They generally run faster but need to be recompiled for different platforms.\n",
        " Interpreted languages (e.g., Python, JavaScript) are executed line by line by an interpreter at runtime. They are more flexible but typically slower than compiled languages.\n",
        "\n",
        "2. What is exception handling in Python?\n",
        "\n",
        "ANS. Exception handling is a mechanism to handle runtime errors gracefully using try, except, else, and finally blocks, preventing program crashes.\n",
        "\n",
        "3. What is the purpose of the finally block in exception handling?\n",
        "ANS. The finally block executes code regardless of whether an exception occurred or not, typically used for cleanup operations like closing files.\n",
        "\n",
        "4. What is logging in Python?\n",
        "ANS Logging is a way to track events that happen when software runs, providing a more flexible and configurable alternative to print statements.\n",
        "\n",
        "5. What is the significance of the __del__ method in Python?\n",
        "ANS __del__ is a destructor method called when an object is about to be destroyed, used for cleanup activities.\n",
        "\n",
        "6. What is the difference between import and from ... import in Python?\n",
        "ANS import module imports the entire module, requiring module.function() syntax.\n",
        "\n",
        "from module import function imports specific functions, allowing direct function() calls.\n",
        "\n",
        "7. How can you handle multiple exceptions in Python?\n",
        "python\n",
        "try:\n",
        "    # code\n",
        "except (TypeError, ValueError) as e:\n",
        "    # handle multiple exceptions\n",
        "except Exception as e:\n",
        "    # handle other exceptions\n",
        "8. What is the purpose of the with statement when ANS\n",
        "handling files in Python?\n",
        "ANS The with statement ensures proper resource management, automatically closing files even if exceptions occur.\n",
        "\n",
        "9. What is the difference between multithreading and multiprocessing?\n",
        "ANS Multithreading: Multiple threads within a single process (shared memory, good for I/O-bound tasks)\n",
        "\n",
        "Multiprocessing: Multiple processes with separate memory (good for CPU-bound tasks)\n",
        "\n",
        "10. What are the advantages of using logging in a program?\n",
        "ANS Better error tracking\n",
        "\n",
        "Configurable output levels\n",
        "\n",
        "Persistent record of program execution\n",
        "\n",
        "Flexible output destinations\n",
        "\n",
        "11. What is memory management in Python?\n",
        "ANS Python's memory management handles allocation and deallocation of memory automatically using a private heap and garbage collector.\n",
        "\n",
        "12. What are the basic steps involved in exception handling in Python?\n",
        "ANs Wrap code in try block\n",
        "\n",
        "Catch exceptions with except\n",
        "\n",
        "Optional else block if no exceptions\n",
        "\n",
        "Optional finally block for cleanup\n",
        "\n",
        "13. Why is memory management important in Python?\n",
        "Prevents memory leaks, optimizes performance, and ensures efficient use of system resources.\n",
        "\n",
        "14. What is the role of try and except in exception handling?\n",
        "try: Contains code that might raise exceptions\n",
        "\n",
        "except: Handles specific exceptions that occur\n",
        "\n",
        "15. How does Python's garbage collection system work?\n",
        "Python uses reference counting and a cyclic garbage collector to automatically reclaim memory from unused objects.\n",
        "\n",
        "16. What is the purpose of the else block in exception handling?\n",
        "The else block executes only if no exceptions were raised in the try block.\n",
        "\n",
        "17. What are the common logging levels in Python?\n",
        "DEBUG\n",
        "\n",
        "INFO\n",
        "\n",
        "WARNING\n",
        "\n",
        "ERROR\n",
        "\n",
        "CRITICAL\n",
        "\n",
        "18. What is the difference between os.fork() and multiprocessing in Python?\n",
        "os.fork() is Unix-specific and creates child processes\n",
        "\n",
        "multiprocessing is cross-platform and provides higher-level interface\n",
        "\n",
        "19. What is the importance of closing a file in Python?\n",
        "Releases system resources\n",
        "\n",
        "Ensures all data is written\n",
        "\n",
        "Prevents data corruption\n",
        "\n",
        "20. What is the difference between file.read() and file.readline() in Python?\n",
        "read() reads the entire file content\n",
        "\n",
        "readline() reads a single line\n",
        "\n",
        "21. What is the logging module in Python used for?\n",
        "To implement flexible event logging for applications and libraries.\n",
        "\n",
        "22. What is the os module in Python used for in file handling?\n",
        "Provides operating system dependent functionality like file operations (create, delete, move files).\n",
        "\n",
        "23. What are the challenges associated with memory management in Python?\n",
        "Memory leaks from circular references\n",
        "\n",
        "High memory usage for certain operations\n",
        "\n",
        "Difficulty in manual control"
      ],
      "metadata": {
        "id": "Ski7zyqSb5rp"
      }
    },
    {
      "cell_type": "markdown",
      "source": [
        "24. How do you raise an exception manually in Python?"
      ],
      "metadata": {
        "id": "7qQgbgSDdIYO"
      }
    },
    {
      "cell_type": "code",
      "execution_count": null,
      "metadata": {
        "id": "U5U8WTExbt3b"
      },
      "outputs": [],
      "source": [
        "raise Exception(\"Error message\")\n"
      ]
    },
    {
      "cell_type": "markdown",
      "source": [
        "25. Why is it important to use multithreading in certain applications?\n",
        "Improves performance for I/O-bound tasks by allowing concurrent operations while waiting for external resources.\n",
        "\n",
        "Practical Questions\n",
        "1. How can you open a file for writing in Python and write a string to it?"
      ],
      "metadata": {
        "id": "Uq3V6vsLdXh0"
      }
    },
    {
      "cell_type": "code",
      "source": [
        "with open('file.txt', 'w') as f:\n",
        "    f.write(\"Hello, World!\")"
      ],
      "metadata": {
        "id": "wp9L1Gnoddsc"
      },
      "execution_count": null,
      "outputs": []
    },
    {
      "cell_type": "markdown",
      "source": [
        "2. Write a Python program to read the contents of a file and print each line."
      ],
      "metadata": {
        "id": "rL27W-eBdhJ8"
      }
    },
    {
      "cell_type": "code",
      "source": [
        "with open('file.txt', 'r') as f:\n",
        "    for line in f:\n",
        "        print(line, end='')"
      ],
      "metadata": {
        "id": "x4Fyiyxcdldx"
      },
      "execution_count": null,
      "outputs": []
    },
    {
      "cell_type": "markdown",
      "source": [
        "3. How would you handle a case where the file doesn't exist while trying to open it for reading?\n",
        "\n"
      ],
      "metadata": {
        "id": "yrojaijHdpVA"
      }
    },
    {
      "cell_type": "code",
      "source": [
        "try:\n",
        "    with open('file.txt', 'r') as f:\n",
        "        content = f.read()\n",
        "except FileNotFoundError:\n",
        "    print(\"File not found\")"
      ],
      "metadata": {
        "id": "pCQsv_RZdxzP"
      },
      "execution_count": null,
      "outputs": []
    },
    {
      "cell_type": "markdown",
      "source": [
        "4. Write a Python script that reads from one file and writes its content to another file.\n"
      ],
      "metadata": {
        "id": "Zo_Db1Hnd0aP"
      }
    },
    {
      "cell_type": "code",
      "source": [
        "with open('source.txt', 'r') as src, open('destination.txt', 'w') as dest:\n",
        "    dest.write(src.read())"
      ],
      "metadata": {
        "id": "XO4Nl5mCd7DK"
      },
      "execution_count": null,
      "outputs": []
    },
    {
      "cell_type": "markdown",
      "source": [
        "5. How would you catch and handle division by zero error in Python?"
      ],
      "metadata": {
        "id": "bsEnA96heDZV"
      }
    },
    {
      "cell_type": "code",
      "source": [
        "try:\n",
        "    result = 10 / 0\n",
        "except ZeroDivisionError:\n",
        "    print(\"Cannot divide by zero\")"
      ],
      "metadata": {
        "id": "HYS_oLgteErE"
      },
      "execution_count": null,
      "outputs": []
    },
    {
      "cell_type": "markdown",
      "source": [
        "6. Write a Python program that logs an error message to a log file when a division by zero exception occurs.\n"
      ],
      "metadata": {
        "id": "E3zV1nG3ePNd"
      }
    },
    {
      "cell_type": "code",
      "source": [
        "import logging\n",
        "\n",
        "logging.basicConfig(filename='app.log', level=logging.ERROR)\n",
        "\n",
        "try:\n",
        "    result = 10 / 0\n",
        "except ZeroDivisionError:\n",
        "    logging.error(\"Division by zero attempted\")"
      ],
      "metadata": {
        "id": "mDq_o3kJeRjP"
      },
      "execution_count": null,
      "outputs": []
    },
    {
      "cell_type": "markdown",
      "source": [
        "7. How do you log information at different levels (INFO, ERROR, WARNING) in Python using the logging module?\n"
      ],
      "metadata": {
        "id": "EDyc_wEheURq"
      }
    },
    {
      "cell_type": "code",
      "source": [
        "import logging\n",
        "\n",
        "logging.basicConfig(level=logging.DEBUG)\n",
        "\n",
        "logging.debug(\"Debug message\")\n",
        "logging.info(\"Informational message\")\n",
        "logging.warning(\"Warning message\")\n",
        "logging.error(\"Error message\")\n",
        "logging.critical(\"Critical message\")"
      ],
      "metadata": {
        "id": "XpVoqweVecnW"
      },
      "execution_count": null,
      "outputs": []
    },
    {
      "cell_type": "markdown",
      "source": [
        "8. Write a program to handle a file opening error using exception handling.\n",
        "python\n",
        "try:\n"
      ],
      "metadata": {
        "id": "xvu2VSxZfIFM"
      }
    },
    {
      "cell_type": "code",
      "source": [
        "try:\n",
        "    with open('nonexistent.txt', 'r') as f:\n",
        "        content = f.read()\n",
        "except IOError as e:\n",
        "    print(f\"Error opening file: {e}\")"
      ],
      "metadata": {
        "id": "eHJG_ZxqhMfC"
      },
      "execution_count": null,
      "outputs": []
    },
    {
      "cell_type": "markdown",
      "source": [
        "\n",
        "9. How can you read a file line by line and store its content in a list in Python?"
      ],
      "metadata": {
        "id": "AnBBG51PfMyZ"
      }
    },
    {
      "cell_type": "code",
      "source": [
        "with open('file.txt', 'r') as f:\n",
        "    lines = f.readlines()"
      ],
      "metadata": {
        "id": "SSM_JzDMhOFa"
      },
      "execution_count": null,
      "outputs": []
    },
    {
      "cell_type": "markdown",
      "source": [
        "\n",
        "10. How can you append data to an existing file in Python?\n"
      ],
      "metadata": {
        "id": "YF-B1cc4fWZS"
      }
    },
    {
      "cell_type": "code",
      "source": [
        "with open('file.txt', 'a') as f:\n",
        "    f.write(\"New data\\n\")"
      ],
      "metadata": {
        "id": "owW_NiERhUI_"
      },
      "execution_count": null,
      "outputs": []
    },
    {
      "cell_type": "markdown",
      "source": [
        "\n",
        "11. Write a Python program that uses a try-except block to handle an error when attempting to access a dictionary key that doesn't exist.\n"
      ],
      "metadata": {
        "id": "VtrGf9svfiLl"
      }
    },
    {
      "cell_type": "code",
      "source": [
        "my_dict = {'a': 1, 'b': 2}\n",
        "\n",
        "try:\n",
        "    value = my_dict['c']\n",
        "except KeyError:\n",
        "    print(\"Key not found in dictionary\")"
      ],
      "metadata": {
        "id": "l93e2zidhWX5"
      },
      "execution_count": null,
      "outputs": []
    },
    {
      "cell_type": "markdown",
      "source": [
        "\n",
        "12. Write a program that demonstrates using multiple except blocks to handle different types of exceptions.\n"
      ],
      "metadata": {
        "id": "aQB5WCHnfqfo"
      }
    },
    {
      "cell_type": "code",
      "source": [
        "try:\n",
        "    # code that might raise exceptions\n",
        "    result = 10 / 0\n",
        "    value = my_dict['nonexistent']\n",
        "except ZeroDivisionError:\n",
        "    print(\"Cannot divide by zero\")\n",
        "except KeyError:\n",
        "    print(\"Key not found\")\n",
        "except Exception as e:\n",
        "    print(f\"Unexpected error: {e}\")"
      ],
      "metadata": {
        "id": "OMuNXV_khXA0"
      },
      "execution_count": null,
      "outputs": []
    },
    {
      "cell_type": "markdown",
      "source": [
        "\n",
        "13. How would you check if a file exists before attempting to read it in Python?\n"
      ],
      "metadata": {
        "id": "l7Bc9o8wfy2B"
      }
    },
    {
      "cell_type": "code",
      "source": [
        "import os\n",
        "\n",
        "if os.path.exists('file.txt'):\n",
        "    with open('file.txt', 'r') as f:\n",
        "        content = f.read()\n",
        "else:\n",
        "    print(\"File does not exist\")"
      ],
      "metadata": {
        "id": "D2_X3xcHhXxV"
      },
      "execution_count": null,
      "outputs": []
    },
    {
      "cell_type": "markdown",
      "source": [
        "\n",
        "14. Write a program that uses the logging module to log both informational and error messages.\n"
      ],
      "metadata": {
        "id": "A0xMEggQf5t_"
      }
    },
    {
      "cell_type": "code",
      "source": [
        "import logging\n",
        "\n",
        "logging.basicConfig(filename='app.log', level=logging.INFO,\n",
        "                    format='%(asctime)s - %(levelname)s - %(message)s')\n",
        "\n",
        "logging.info(\"Program started\")\n",
        "try:\n",
        "    result = 10 / 2\n",
        "    logging.info(f\"Calculation successful: {result}\")\n",
        "except Exception as e:\n",
        "    logging.error(f\"Error occurred: {e}\")"
      ],
      "metadata": {
        "id": "CTSfhjg3he5W"
      },
      "execution_count": null,
      "outputs": []
    },
    {
      "cell_type": "markdown",
      "source": [
        "\n",
        "15. Write a Python program that prints the content of a file and handles the case when the file is empty.\n"
      ],
      "metadata": {
        "id": "yXJlhr_TgHw7"
      }
    },
    {
      "cell_type": "code",
      "source": [
        "with open('file.txt', 'r') as f:\n",
        "    content = f.read()\n",
        "    if not content:\n",
        "        print(\"File is empty\")\n",
        "    else:\n",
        "        print(content)"
      ],
      "metadata": {
        "id": "ArEH9OFzhf4U"
      },
      "execution_count": null,
      "outputs": []
    },
    {
      "cell_type": "markdown",
      "source": [
        "\n",
        "16. Demonstrate how to use memory profiling to check the memory usage of a small program.\n"
      ],
      "metadata": {
        "id": "7FRk9RHUgO8Q"
      }
    },
    {
      "cell_type": "code",
      "source": [
        "import memory_profiler\n",
        "\n",
        "@profile\n",
        "def my_function():\n",
        "    a = [1] * 100000\n",
        "    b = [2] * 90000\n",
        "    del b\n",
        "    return a\n",
        "\n",
        "if __name__ == \"__main__\":\n",
        "    my_function()"
      ],
      "metadata": {
        "id": "lKy-OdxYhoXO"
      },
      "execution_count": null,
      "outputs": []
    },
    {
      "cell_type": "markdown",
      "source": [
        "\n",
        "17. Write a Python program to create and write a list of numbers to a file, one number per line.\n"
      ],
      "metadata": {
        "id": "lc-_k7MagX1w"
      }
    },
    {
      "cell_type": "code",
      "source": [
        "numbers = [1, 2, 3, 4, 5]\n",
        "\n",
        "with open('numbers.txt', 'w') as f:\n",
        "    for num in numbers:\n",
        "        f.write(f\"{num}\\n\")"
      ],
      "metadata": {
        "id": "W2kMK9xPhqBz"
      },
      "execution_count": null,
      "outputs": []
    },
    {
      "cell_type": "markdown",
      "source": [
        "\n",
        "18. How would you implement a basic logging setup that logs to a file with rotation after 1MB?\n"
      ],
      "metadata": {
        "id": "DJg65OdHgeNH"
      }
    },
    {
      "cell_type": "code",
      "source": [
        "import logging\n",
        "from logging.handlers import RotatingFileHandler\n",
        "\n",
        "logger = logging.getLogger(__name__)\n",
        "logger.setLevel(logging.INFO)\n",
        "\n",
        "handler = RotatingFileHandler('app.log', maxBytes=1024*1024, backupCount=3)\n",
        "logger.addHandler(handler)\n",
        "\n",
        "logger.info(\"This is a log message\")"
      ],
      "metadata": {
        "id": "neppXfF2hqvu"
      },
      "execution_count": null,
      "outputs": []
    },
    {
      "cell_type": "markdown",
      "source": [
        "\n",
        "19. Write a program that handles both IndexError and KeyError using a try-except block.\n"
      ],
      "metadata": {
        "id": "5jROMUbxgk5b"
      }
    },
    {
      "cell_type": "code",
      "source": [
        "try:\n",
        "    my_list = [1, 2, 3]\n",
        "    print(my_list[5])\n",
        "\n",
        "    my_dict = {'a': 1}\n",
        "    print(my_dict['b'])\n",
        "except IndexError:\n",
        "    print(\"List index out of range\")\n",
        "except KeyError:\n",
        "    print(\"Dictionary key not found\")"
      ],
      "metadata": {
        "id": "QdA3yqVahr4a"
      },
      "execution_count": null,
      "outputs": []
    },
    {
      "cell_type": "markdown",
      "source": [
        "\n",
        "20. How would you open a file and read its contents using a context manager in Python?\n"
      ],
      "metadata": {
        "id": "ywxbP-esgsQN"
      }
    },
    {
      "cell_type": "code",
      "source": [
        "with open('file.txt', 'r') as f:\n",
        "    contents = f.read()"
      ],
      "metadata": {
        "id": "RtO0TW7hh2yY"
      },
      "execution_count": null,
      "outputs": []
    },
    {
      "cell_type": "markdown",
      "source": [
        "\n",
        "21. Write a Python program that reads a file and prints the number of occurrences of a specific word.\n"
      ],
      "metadata": {
        "id": "sletWEuXg0Y_"
      }
    },
    {
      "cell_type": "code",
      "source": [
        "word_to_count = \"Python\"\n",
        "count = 0\n",
        "\n",
        "with open('file.txt', 'r') as f:\n",
        "    for line in f:\n",
        "        words = line.split()\n",
        "        count += words.count(word_to_count)\n",
        "\n",
        "print(f\"'{word_to_count}' appears {count} times\")"
      ],
      "metadata": {
        "id": "saKJm-UPh3dB"
      },
      "execution_count": null,
      "outputs": []
    },
    {
      "cell_type": "markdown",
      "source": [
        "\n",
        "22. How can you check if a file is empty before attempting to read its contents?\n"
      ],
      "metadata": {
        "id": "barEAxHgg6mA"
      }
    },
    {
      "cell_type": "code",
      "source": [
        "import os\n",
        "\n",
        "if os.path.getsize('file.txt') == 0:\n",
        "    print(\"File is empty\")\n",
        "else:\n",
        "    with open('file.txt', 'r') as f:\n",
        "        content = f.read()"
      ],
      "metadata": {
        "id": "TQEeZkwqh4Fo"
      },
      "execution_count": null,
      "outputs": []
    },
    {
      "cell_type": "markdown",
      "source": [
        "\n",
        "23. Write a Python program that writes to a log file when an error occurs during file handling.\n"
      ],
      "metadata": {
        "id": "HKYhRSMRhC9g"
      }
    },
    {
      "cell_type": "code",
      "source": [
        "import logging\n",
        "\n",
        "logging.basicConfig(filename='file_errors.log', level=logging.ERROR)\n",
        "\n",
        "try:\n",
        "    with open('nonexistent.txt', 'r') as f:\n",
        "        content = f.read()\n",
        "except IOError as e:\n",
        "    logging.error(f\"Error handling file: {e}\")"
      ],
      "metadata": {
        "id": "XM41uH2fiCvs"
      },
      "execution_count": null,
      "outputs": []
    }
  ]
}